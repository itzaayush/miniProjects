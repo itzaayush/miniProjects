{
 "cells": [
  {
   "cell_type": "code",
   "execution_count": null,
   "metadata": {},
   "outputs": [],
   "source": [
    "#Tic Tac Toe Game"
   ]
  },
  {
   "cell_type": "code",
   "execution_count": 1,
   "metadata": {},
   "outputs": [],
   "source": [
    "from IPython.display import clear_output\n",
    "import random\n",
    "\n",
    "def displayboard(board):\n",
    "    clear_output()\n",
    "    print(\"   |   |\")\n",
    "    print(\" \"+board[7]+\" | \"+board[8]+ \" | \"+board[9])\n",
    "    print(\"   |   |\")\n",
    "    print(\"-----------\")\n",
    "    print(\"   |   |\")\n",
    "    print(\" \" +board[4]+\" | \"+board[5]+ \" | \"+board[6])\n",
    "    print(\"   |   |\")\n",
    "    print(\"-----------\")\n",
    "    print(\"   |   |\")\n",
    "    print(\" \" +board[1]+\" | \"+board[2]+ \" | \"+board[3])\n",
    "    print(\"   |   |\")\n",
    "        \n",
    "        \n",
    "    "
   ]
  },
  {
   "cell_type": "code",
   "execution_count": 2,
   "metadata": {},
   "outputs": [
    {
     "name": "stdout",
     "output_type": "stream",
     "text": [
      "   |   |\n",
      " O | X | X\n",
      "   |   |\n",
      "-----------\n",
      "   |   |\n",
      " X | O | X\n",
      "   |   |\n",
      "-----------\n",
      "   |   |\n",
      " X | X | O\n",
      "   |   |\n"
     ]
    }
   ],
   "source": [
    "board=[' ','X','X','O','X','O','X','O','X','X']\n",
    "\n",
    "displayboard(board)\n",
    "displayboard(board)"
   ]
  },
  {
   "cell_type": "code",
   "execution_count": 3,
   "metadata": {},
   "outputs": [],
   "source": [
    "def p_input():\n",
    "    symbol=\" \"\n",
    "    while (symbol !=\"X\" and symbol !=\"O\"):\n",
    "        symbol=input(\"Player1 choose 'X' or 'O'\").upper()\n",
    "    if symbol==\"X\":\n",
    "        return (\"X\",\"O\")\n",
    "    else:\n",
    "        return (\"O\",\"X\")\n",
    "        "
   ]
  },
  {
   "cell_type": "code",
   "execution_count": 4,
   "metadata": {},
   "outputs": [
    {
     "name": "stdout",
     "output_type": "stream",
     "text": [
      "Player1 choose 'X' or 'O'x\n"
     ]
    }
   ],
   "source": [
    "p1_symbol,p2_symbol=p_input()"
   ]
  },
  {
   "cell_type": "code",
   "execution_count": 5,
   "metadata": {},
   "outputs": [],
   "source": [
    "def place_symbol(board, symbol,pos):\n",
    "    board[pos]=symbol"
   ]
  },
  {
   "cell_type": "code",
   "execution_count": 6,
   "metadata": {},
   "outputs": [
    {
     "name": "stdout",
     "output_type": "stream",
     "text": [
      "   |   |\n",
      " O | $ | X\n",
      "   |   |\n",
      "-----------\n",
      "   |   |\n",
      " X | O | X\n",
      "   |   |\n",
      "-----------\n",
      "   |   |\n",
      " X | X | O\n",
      "   |   |\n"
     ]
    }
   ],
   "source": [
    "place_symbol(board,\"$\",8)\n",
    "displayboard(board)"
   ]
  },
  {
   "cell_type": "code",
   "execution_count": 7,
   "metadata": {},
   "outputs": [],
   "source": [
    "def winner(board,symbol):\n",
    "    return (\n",
    "    (board[7] == symbol and board[8] == symbol and board[9] == symbol) or \n",
    "    (board[4] == symbol and board[5] == symbol and board[6] == symbol) or\n",
    "    (board[1] == symbol and board[2] == symbol and board[3] == symbol) or  \n",
    "    (board[7] == symbol and board[4] == symbol and board[1] == symbol) or \n",
    "    (board[8] == symbol and board[5] == symbol and board[2] == symbol) or \n",
    "    (board[9] == symbol and board[6] == symbol and board[3] == symbol) or \n",
    "    (board[7] == symbol and board[5] == symbol and board[3] == symbol) or \n",
    "    (board[9] == symbol and board[5] == symbol and board[1] == symbol))"
   ]
  },
  {
   "cell_type": "code",
   "execution_count": 16,
   "metadata": {},
   "outputs": [],
   "source": [
    "def first():\n",
    "    a=random.randint(0,1)\n",
    "    if a==0:\n",
    "        return \"Player 1\"\n",
    "    else:\n",
    "        return \"Player 2\""
   ]
  },
  {
   "cell_type": "code",
   "execution_count": 17,
   "metadata": {},
   "outputs": [],
   "source": [
    "def check(board,pos):\n",
    "    return(board[pos]==\" \")"
   ]
  },
  {
   "cell_type": "code",
   "execution_count": 18,
   "metadata": {},
   "outputs": [],
   "source": [
    "def check_full(board):\n",
    "    for i in range(1,10):\n",
    "        if check(board,i):\n",
    "            return False\n",
    "    #it means that the board is full    \n",
    "    return True    \n",
    "        "
   ]
  },
  {
   "cell_type": "code",
   "execution_count": 19,
   "metadata": {},
   "outputs": [],
   "source": [
    "def p_choice(board):\n",
    "    pos=0\n",
    "    while pos not in [1,2,3,4,5,6,7,8,9] or not check(board,pos):\n",
    "        pos=int(input(\"Enter Position (1-9)\"))\n",
    "    return pos    \n",
    "    "
   ]
  },
  {
   "cell_type": "code",
   "execution_count": 20,
   "metadata": {},
   "outputs": [],
   "source": [
    "def replay():\n",
    "    ch=input(\"do u want to play aganin[y/n]\").lower()\n",
    "    \n",
    "    if ch=='y':\n",
    "        return True"
   ]
  },
  {
   "cell_type": "code",
   "execution_count": 22,
   "metadata": {},
   "outputs": [
    {
     "name": "stdout",
     "output_type": "stream",
     "text": [
      "   |   |\n",
      " O | X | O\n",
      "   |   |\n",
      "-----------\n",
      "   |   |\n",
      " O | X | X\n",
      "   |   |\n",
      "-----------\n",
      "   |   |\n",
      " X | O | X\n",
      "   |   |\n",
      "TIE\n",
      "do u want to play aganin[y/n]n\n"
     ]
    }
   ],
   "source": [
    "\n",
    "print(\"Welcome To Tic Tac Toe\")\n",
    "    \n",
    "while True:\n",
    "    board=[\" \"]*10\n",
    "    p1_symbol,p2_symbol=p_input()\n",
    "    chance=first()\n",
    "    print(chance+\" Will Go First\")\n",
    "        \n",
    "    start=input(\"press 'y' to play \").lower()\n",
    "    if start==\"y\":\n",
    "        a=True\n",
    "    else:\n",
    "        a=False\n",
    "         \n",
    "        \n",
    "    while a:\n",
    "        if chance==\"Player 1\":\n",
    "            displayboard(board)\n",
    "            pos=p_choice(board)\n",
    "            place_symbol(board,p1_symbol,pos)\n",
    "                \n",
    "            if winner(board,p1_symbol):\n",
    "                displayboard(board)\n",
    "                print(\"Player 1 has won\")\n",
    "                a=False\n",
    "            else:\n",
    "                if check_full(board):\n",
    "                    displayboard(board)\n",
    "                    print(\"TIE\")\n",
    "                    a=False\n",
    "                else:\n",
    "                    chance=\"Player 2\"\n",
    "                \n",
    "                \n",
    "        else:\n",
    "            displayboard(board)\n",
    "            pos=p_choice(board)\n",
    "            place_symbol(board,p2_symbol,pos)\n",
    "                \n",
    "            if winner(board,p2_symbol):\n",
    "                displayboard(board)\n",
    "                print(\"Player 2 has won\")\n",
    "                a=False\n",
    "            else:\n",
    "                if check_full(board):\n",
    "                    displayboard(board)\n",
    "                    print(\"TIE\")\n",
    "                    a=False\n",
    "                else:\n",
    "                    chance=\"Player 1\"                \n",
    "    if not replay():\n",
    "        break\n",
    "        \n",
    "        \n",
    "    "
   ]
  },
  {
   "cell_type": "code",
   "execution_count": null,
   "metadata": {},
   "outputs": [],
   "source": []
  },
  {
   "cell_type": "code",
   "execution_count": null,
   "metadata": {},
   "outputs": [],
   "source": []
  }
 ],
 "metadata": {
  "kernelspec": {
   "display_name": "Python 3",
   "language": "python",
   "name": "python3"
  },
  "language_info": {
   "codemirror_mode": {
    "name": "ipython",
    "version": 3
   },
   "file_extension": ".py",
   "mimetype": "text/x-python",
   "name": "python",
   "nbconvert_exporter": "python",
   "pygments_lexer": "ipython3",
   "version": "3.7.3"
  }
 },
 "nbformat": 4,
 "nbformat_minor": 2
}
